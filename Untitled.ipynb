{
 "cells": [
  {
   "cell_type": "markdown",
   "id": "089e16b7-7c9c-4f0f-862a-8e84228a9a04",
   "metadata": {},
   "source": [
    "# My Jupyter Notebook on IBM Watson Studio"
   ]
  },
  {
   "cell_type": "markdown",
   "id": "7e03c33a-2ad7-4f24-ac72-29072697a09f",
   "metadata": {},
   "source": [
    "**Carlos**  \n",
    "My desired occupation is data scientist"
   ]
  },
  {
   "cell_type": "markdown",
   "id": "9e4b93f2-a192-4005-8f83-ede35a613ab8",
   "metadata": {},
   "source": [
    "*I am interested in data science because I love working with data and statistics. Also, it's a business sector with a lot of potential*"
   ]
  },
  {
   "cell_type": "markdown",
   "id": "8ec3c19e-7d1c-46f3-a32a-674926614cbc",
   "metadata": {},
   "source": [
    "### My code will calculate a simple sum"
   ]
  },
  {
   "cell_type": "code",
   "execution_count": 1,
   "id": "97957fc3-9644-4b98-a460-392f395d27ce",
   "metadata": {},
   "outputs": [
    {
     "data": {
      "text/plain": [
       "10"
      ]
     },
     "execution_count": 1,
     "metadata": {},
     "output_type": "execute_result"
    }
   ],
   "source": [
    "7+3"
   ]
  },
  {
   "cell_type": "markdown",
   "id": "54ebc273-f0f8-4a74-b135-dc0bce49df6e",
   "metadata": {},
   "source": [
    "<a href=\"https://dataplatform.cloud.ibm.com/gallery\">IBM Cloud Gallery</a>\n",
    "\n",
    "1. This\n",
    "2. is\n",
    "3. numbered\n",
    "    1. a\n",
    "    2. b\n",
    "    3. c\n",
    "4. list\n",
    "\n",
    "~Strike~\n",
    "\n",
    "| Fruits | Drinks | Biscuits |\n",
    "| ------ | ------ | ------ |\n",
    "| Pear | Beer | Oreo |\n",
    "| Banana | Juice | Chips Ahoy |\n",
    "| Apple | Water | Dinosaurus |\n",
    "| Peach | CocaCola | Campurrianas |"
   ]
  },
  {
   "cell_type": "code",
   "execution_count": null,
   "id": "a35b896d-717e-4d4d-a15f-27b459c6ff04",
   "metadata": {},
   "outputs": [],
   "source": []
  }
 ],
 "metadata": {
  "kernelspec": {
   "display_name": "Python",
   "language": "python",
   "name": "conda-env-python-py"
  },
  "language_info": {
   "codemirror_mode": {
    "name": "ipython",
    "version": 3
   },
   "file_extension": ".py",
   "mimetype": "text/x-python",
   "name": "python",
   "nbconvert_exporter": "python",
   "pygments_lexer": "ipython3",
   "version": "3.7.12"
  }
 },
 "nbformat": 4,
 "nbformat_minor": 5
}
